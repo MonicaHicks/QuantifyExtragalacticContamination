{
  "nbformat": 4,
  "nbformat_minor": 0,
  "metadata": {
    "colab": {
      "provenance": [],
      "gpuType": "A100"
    },
    "kernelspec": {
      "name": "python3",
      "display_name": "Python 3"
    },
    "language_info": {
      "name": "python"
    },
    "accelerator": "GPU"
  },
  "cells": [
    {
      "cell_type": "markdown",
      "source": [
        "#Quantify Extragalactic Contamination in PySM3 Dust Intensity Maps"
      ],
      "metadata": {
        "id": "KbGZVBrd_X9V"
      }
    },
    {
      "cell_type": "markdown",
      "source": [
        "###Download the PySM Software and Navigate into the Directory `pysm`"
      ],
      "metadata": {
        "id": "RXpdAKcy_ojI"
      }
    },
    {
      "cell_type": "code",
      "execution_count": 1,
      "metadata": {
        "colab": {
          "base_uri": "https://localhost:8080/"
        },
        "id": "mXchS4xhGaVO",
        "outputId": "1004384f-f99d-4253-ef9c-a0c3a140499d"
      },
      "outputs": [
        {
          "output_type": "stream",
          "name": "stdout",
          "text": [
            "Cloning into 'pysm'...\n",
            "remote: Enumerating objects: 4668, done.\u001b[K\n",
            "remote: Counting objects: 100% (1682/1682), done.\u001b[K\n",
            "remote: Compressing objects: 100% (450/450), done.\u001b[K\n",
            "remote: Total 4668 (delta 1260), reused 1565 (delta 1216), pack-reused 2986\u001b[K\n",
            "Receiving objects: 100% (4668/4668), 32.50 MiB | 14.36 MiB/s, done.\n",
            "Resolving deltas: 100% (3271/3271), done.\n",
            "Collecting pysm\n",
            "  Downloading pysm-0.3.9-py2.py3-none-any.whl (13 kB)\n",
            "Installing collected packages: pysm\n",
            "Successfully installed pysm-0.3.9\n",
            "Collecting healpy\n",
            "  Downloading healpy-1.16.3-cp310-cp310-manylinux_2_17_x86_64.manylinux2014_x86_64.whl (23.7 MB)\n",
            "\u001b[2K     \u001b[90m━━━━━━━━━━━━━━━━━━━━━━━━━━━━━━━━━━━━━━━━\u001b[0m \u001b[32m23.7/23.7 MB\u001b[0m \u001b[31m23.3 MB/s\u001b[0m eta \u001b[36m0:00:00\u001b[0m\n",
            "\u001b[?25hRequirement already satisfied: matplotlib in /usr/local/lib/python3.10/dist-packages (from healpy) (3.7.1)\n",
            "Requirement already satisfied: numpy>=1.13 in /usr/local/lib/python3.10/dist-packages (from healpy) (1.22.4)\n",
            "Requirement already satisfied: astropy in /usr/local/lib/python3.10/dist-packages (from healpy) (5.2.2)\n",
            "Requirement already satisfied: scipy in /usr/local/lib/python3.10/dist-packages (from healpy) (1.10.1)\n",
            "Requirement already satisfied: pyerfa>=2.0 in /usr/local/lib/python3.10/dist-packages (from astropy->healpy) (2.0.0.3)\n",
            "Requirement already satisfied: PyYAML>=3.13 in /usr/local/lib/python3.10/dist-packages (from astropy->healpy) (6.0.1)\n",
            "Requirement already satisfied: packaging>=19.0 in /usr/local/lib/python3.10/dist-packages (from astropy->healpy) (23.1)\n",
            "Requirement already satisfied: contourpy>=1.0.1 in /usr/local/lib/python3.10/dist-packages (from matplotlib->healpy) (1.1.0)\n",
            "Requirement already satisfied: cycler>=0.10 in /usr/local/lib/python3.10/dist-packages (from matplotlib->healpy) (0.11.0)\n",
            "Requirement already satisfied: fonttools>=4.22.0 in /usr/local/lib/python3.10/dist-packages (from matplotlib->healpy) (4.41.0)\n",
            "Requirement already satisfied: kiwisolver>=1.0.1 in /usr/local/lib/python3.10/dist-packages (from matplotlib->healpy) (1.4.4)\n",
            "Requirement already satisfied: pillow>=6.2.0 in /usr/local/lib/python3.10/dist-packages (from matplotlib->healpy) (8.4.0)\n",
            "Requirement already satisfied: pyparsing>=2.3.1 in /usr/local/lib/python3.10/dist-packages (from matplotlib->healpy) (3.1.0)\n",
            "Requirement already satisfied: python-dateutil>=2.7 in /usr/local/lib/python3.10/dist-packages (from matplotlib->healpy) (2.8.2)\n",
            "Requirement already satisfied: six>=1.5 in /usr/local/lib/python3.10/dist-packages (from python-dateutil>=2.7->matplotlib->healpy) (1.16.0)\n",
            "Installing collected packages: healpy\n",
            "Successfully installed healpy-1.16.3\n",
            "/content/pysm\n"
          ]
        }
      ],
      "source": [
        "!git clone https://github.com/galsci/pysm\n",
        "!pip install pysm\n",
        "!pip install healpy\n",
        "%cd pysm"
      ]
    },
    {
      "cell_type": "markdown",
      "source": [
        "###Import the PySM3 Modules"
      ],
      "metadata": {
        "id": "j2D7edWK_zsV"
      }
    },
    {
      "cell_type": "code",
      "source": [
        "import pysm3\n",
        "from pysm3 import units as u\n",
        "from pysm3.models.dust import blackbody_ratio"
      ],
      "metadata": {
        "id": "ykA2NBnC_ycm"
      },
      "execution_count": 2,
      "outputs": []
    },
    {
      "cell_type": "markdown",
      "source": [
        "###Import helper modules\n",
        ">Healpy: used for interacting with FITS files and working with map data in the Healpix format.\n",
        "\n",
        ">Numpy: used for array arithmetic and numerical computations.\n",
        "\n",
        ">Pandas: used for .csv file reading/writing.\n",
        "\n",
        "> MatPlotLib: used for generating plots and graphs to evaluate the results of computation.\n",
        "\n",
        "> Tqdm: used for tracking progress in loops or tasks."
      ],
      "metadata": {
        "id": "LhZuv9r1_-M2"
      }
    },
    {
      "cell_type": "code",
      "source": [
        "import healpy as hp\n",
        "import numpy as np\n",
        "import pandas as pd\n",
        "import matplotlib.pyplot as plt\n",
        "from tqdm import tqdm"
      ],
      "metadata": {
        "id": "K42QyWJj_-6a"
      },
      "execution_count": 3,
      "outputs": []
    },
    {
      "cell_type": "markdown",
      "source": [
        "###Dust Map Parameters\n",
        "> `nside`: The resolution parameter determining the number of pixels in the dust map. Higher Nside values result in finer resolution but require more computational resources.\n",
        "\n",
        ">`freq`: The frequency in GHz at which the dust intensity map emissions are observed. The dust emission characteristics can vary at different frequencies, so specifying the frequency helps in visualizing the emission properties of dust at a specific wavelength.\n"
      ],
      "metadata": {
        "id": "jwzyyVO-Apji"
      }
    },
    {
      "cell_type": "code",
      "source": [
        "nside = 2048\n",
        "freq = 343 * u.GHz"
      ],
      "metadata": {
        "id": "o9fbHoF6GeYf"
      },
      "execution_count": 4,
      "outputs": []
    },
    {
      "cell_type": "markdown",
      "source": [
        "###Generate the Dust Intensity Maps from the Dust Models\n",
        "### $E_{B-V}$\n",
        "\n",
        "This section generates dust inensity maps based on models `d1`, `d9`, `d10`, `d11`, `d12`.\n",
        "\n",
        ">`d1`: Thermal dust modeled as a modified black body (mbb) using Planck data at 545 GHz (intensity) and 353 GHz (polarization) with spatially varying temperature and spectral index. Assumes the same spectral index for polarization and intensity.\n",
        "\n",
        ">`d9`: Simplified version of d10 with fixed spectral index (1.48) and fixed dust temperature (19.6 K) based on Planck 2018 results.\n",
        "\n",
        ">`d10`: Single-component modified black body model using GNILC-based templates from Planck data, with reduced contamination from CIB and point sources. Includes added small-scale fluctuations using the logpoltens formalism.\n",
        "\n",
        ">`d11`: Similar to d10 but generates stochastic small scales on-the-fly, offering flexibility in reproducing d10 with specific seeds and resolutions.\n",
        "\n",
        ">`d12`: 3D model of polarized dust emission with six layers (MKD) based on \"A 3-D model of polarised dust emission in the Milky Way\" by Jacques Delabrouille, using different templates, spectral index, and dust temperature for each layer.\n",
        "\n",
        "More information on these models is available [in the PySM3 Doc]( https://pysm3.readthedocs.io/en/latest/models.html#dust)\n",
        "\n",
        "The units of these maps are microkelvin in Rayleigh-Jeans temperature units."
      ],
      "metadata": {
        "id": "Xn94QGr_BDLb"
      }
    },
    {
      "cell_type": "code",
      "source": [
        "dust_models = ['d1','d9','d10','d11','d12']\n",
        "dust_i_maps = []\n",
        "for i in tqdm(range(len(dust_models))):\n",
        "    config = pysm3.sky.PRESET_MODELS[dust_models[i]].copy()\n",
        "    del config['class']\n",
        "    if dust_models[i] == 'd11':\n",
        "      sky_model = pysm3.models.ModifiedBlackBodyRealization(nside=nside, **config)\n",
        "    elif dust_models[i] == 'd12':\n",
        "      sky_model = pysm3.models.ModifiedBlackBodyLayers(nside=nside, **config)\n",
        "    else:\n",
        "      sky_model = pysm3.models.ModifiedBlackBody(nside=nside, **config)\n",
        "    dust_i_maps.append(sky_model.get_emission(freq)[0])"
      ],
      "metadata": {
        "id": "pwkMti8MOB6T",
        "colab": {
          "base_uri": "https://localhost:8080/"
        },
        "outputId": "8b713b34-f3b6-4d44-d96e-2c5cad4dd275"
      },
      "execution_count": 5,
      "outputs": [
        {
          "output_type": "stream",
          "name": "stderr",
          "text": [
            " 60%|██████    | 3/5 [02:12<01:31, 45.51s/it]/usr/local/lib/python3.10/dist-packages/healpy/fitsfunc.py:643: ComplexWarning: Casting complex values to real discards the imaginary part\n",
            "  alm.real[i] = almr\n",
            "/usr/local/lib/python3.10/dist-packages/healpy/fitsfunc.py:644: ComplexWarning: Casting complex values to real discards the imaginary part\n",
            "  alm.imag[i] = almi\n",
            "WARNING:pysm3:No physical unit associated with file /root/.astropy/cache/download/url/5eef745c2c721c70901c600cc4f1ba27/contents\n",
            "/usr/local/lib/python3.10/dist-packages/healpy/sphtfunc.py:607: ComplexWarning: Casting complex values to real discards the imaginary part\n",
            "  (np.asarray(cl, dtype=np.float64) if cl is not None else None)\n",
            "/usr/local/lib/python3.10/dist-packages/healpy/sphtfunc.py:563: ComplexWarning: Casting complex values to real discards the imaginary part\n",
            "  cls_list = [np.asarray(cls, dtype=np.float64)]\n",
            "100%|██████████| 5/5 [14:01<00:00, 168.30s/it]\n"
          ]
        }
      ]
    },
    {
      "cell_type": "markdown",
      "source": [
        "###Get locations of known galaxies\n",
        "\n",
        "The data file `GLADE+_2048.csv` contains data on over 22 million known galaxies and quasars sourced from the [GLADE+ catalog](https://glade.elte.hu/). Each entry in the file includes the following details:\n",
        "\n",
        ">`Pix`: The pixel location of the celestial object represented by a healpy map with an nside value of 2048. This location is derived from the `RA` (Right Ascension) and `Dec` (Declination) variables in the original dataset.\n",
        "\n",
        ">`Z_bin`: The \"bucket\" to which the celestial body is assigned based on the redshift bins created using the [Tomographer interactive tool](http://tomographer.org/guest/jobs#). These bins help categorize galaxies based on their redshift values.\n",
        "\n",
        "This comprehensive dataset has been reduced from a 40-column table to the essential data needed to perform our analysis."
      ],
      "metadata": {
        "id": "XX1blbabB2jx"
      }
    },
    {
      "cell_type": "code",
      "source": [
        "galaxy_data = pd.read_csv('/content/GLADE+_2048.csv')\n",
        "pixels = galaxy_data.Pix\n",
        "z_bin_i = galaxy_data.Z_Bin"
      ],
      "metadata": {
        "id": "1S97jaMJNyaK"
      },
      "execution_count": 6,
      "outputs": []
    },
    {
      "cell_type": "markdown",
      "source": [
        "###Assign cut-offs for redshift buckets\n",
        "\n",
        "These redshift bin cutoffs are based on the redshift bins in the Tomographer interactive tool. Each bin represents a particular interval of redshift values, allowing for efficient categorization and analysis of astronomical data according to their cosmic distances from Earth."
      ],
      "metadata": {
        "id": "0DAl2ewTFSv5"
      }
    },
    {
      "cell_type": "code",
      "source": [
        "cutoffs = pd.read_csv('/content/z_bin_cutoffs.csv')\n",
        "z_bins = cutoffs['z_bins']"
      ],
      "metadata": {
        "id": "5Zi64am8QPaX"
      },
      "execution_count": 7,
      "outputs": []
    },
    {
      "cell_type": "markdown",
      "source": [
        "###Estimating the Sky Average of the Reddening Field\n",
        "### $<E_{B-V}>$\n",
        "\n",
        "The code aims to estimate the spatial average of dust intensity maps, specifically to subtract Galactic contributions and quantify extragalactic contamination in the models. The original approach involved a slow and computationally intensive pixel-wise comparison of each pixel with the average intensity of its neighboring pixels within a square degree. To improve efficiency, the code now utilizes the `hp.sphtfunc.smoothing()` function, applying a Gaussian beam to smooth the maps. This process provides an approximate average intensity of neighboring pixels within a specified fwhm (full-width half-maximum) radius of 1°, reducing computational complexity while obtaining a usable estimation of the sky average for a region.\n",
        "\n",
        "These units of these maps are the same units of the original dust intensity maps (microkelvin in Rayleigh-Jeans temperature units)."
      ],
      "metadata": {
        "id": "vfvzng9JFsYh"
      }
    },
    {
      "cell_type": "code",
      "source": [
        "smooth_dust_maps = dust_i_maps.copy()\n",
        "for i in tqdm(range(len(smooth_dust_maps))):\n",
        "  smooth_dust_maps[i] = hp.sphtfunc.smoothing(smooth_dust_maps[i],fwhm=0.0174533)"
      ],
      "metadata": {
        "id": "Pi6XvORmQRgA",
        "colab": {
          "base_uri": "https://localhost:8080/"
        },
        "outputId": "7f0d41be-d913-453a-ea24-fd9af678b715"
      },
      "execution_count": 8,
      "outputs": [
        {
          "output_type": "stream",
          "name": "stderr",
          "text": [
            "100%|██████████| 5/5 [05:26<00:00, 65.25s/it]\n"
          ]
        }
      ]
    },
    {
      "cell_type": "markdown",
      "source": [
        "### Generating Galaxy Maps for Different Redshift Bins\n",
        "\n",
        "The provided code is designed to generate galaxy maps by utilizing histograms to group galaxies based on their pixel locations. The resulting maps showcase the distribution of galaxies in each pixel location, effectively representing the galaxy density in different regions. These maps are organized into distinct redshift bins, allowing us to accurately assess the expected excess light from galaxies falling within each specific range of redshift values."
      ],
      "metadata": {
        "id": "lNIYptqdmhbq"
      }
    },
    {
      "cell_type": "code",
      "source": [
        "z_maps = []\n",
        "npixels = 12*nside**2\n",
        "n_zbins = len(z_bins)\n",
        "bins = np.arange(npixels + 1)\n",
        "\n",
        "for i in tqdm(range(n_zbins)):\n",
        "  pix_for_zbin_i_gal = pixels[z_bin_i == i]\n",
        "  galaxy_map, bin_edges = np.histogram(pix_for_zbin_i_gal, bins=bins)\n",
        "  z_maps.append(galaxy_map)"
      ],
      "metadata": {
        "id": "psN7cYB-QeBd",
        "colab": {
          "base_uri": "https://localhost:8080/"
        },
        "outputId": "833f3f36-c2fe-430d-88ba-7af53f1e3a88"
      },
      "execution_count": 9,
      "outputs": [
        {
          "output_type": "stream",
          "name": "stderr",
          "text": [
            "100%|██████████| 26/26 [05:49<00:00, 13.43s/it]\n"
          ]
        }
      ]
    },
    {
      "cell_type": "markdown",
      "source": [
        "###Generating Expectation Galaxy Maps\n",
        "\n",
        "The provided code is designed to represent the effective excess reddening around the reference for a given pixel based on the galaxy density in a region with `fwhm=22'` (equal to 0.0064 radians)."
      ],
      "metadata": {
        "id": "aolsLxFCtLCq"
      }
    },
    {
      "cell_type": "code",
      "source": [
        "smooth_z_maps = z_maps.copy()\n",
        "for i in tqdm(range(len(smooth_z_maps))):\n",
        "  smooth_z_maps[i] = hp.sphtfunc.smoothing(smooth_z_maps[i],fwhm=0.0063995)"
      ],
      "metadata": {
        "id": "hsMGn6s6QiJx",
        "colab": {
          "base_uri": "https://localhost:8080/"
        },
        "outputId": "4573dfe7-201c-43a0-eccd-b1807b3271bf"
      },
      "execution_count": 10,
      "outputs": [
        {
          "output_type": "stream",
          "name": "stderr",
          "text": [
            "100%|██████████| 26/26 [24:26<00:00, 56.41s/it]\n"
          ]
        }
      ]
    },
    {
      "cell_type": "markdown",
      "source": [
        "###Writing Expectation Galaxy Maps to File\n",
        "\n",
        "The program offers the option to write the expectation galaxy maps to a file. Unlike the dust maps that use stochastic small scales generated at runtime, the galaxy data remains static. By writing the smoothed galaxy maps to a file, you can reuse them later, thereby offsetting the computational load of the program. If you plan on re-running the notebook against new dust models or dust models generated at different frequencies, I suggest saving the smoothed galaxy maps for faster processing and to avoid redundant computations in future analyses."
      ],
      "metadata": {
        "id": "TQqXIIFVgyYn"
      }
    },
    {
      "cell_type": "code",
      "source": [
        "%mkdir z_maps\n",
        "for i in tqdm(range(len(smooth_z_maps))):\n",
        "  hp.write_map('z_maps/smooth_z_map' + str(i) + '.fits', smooth_z_maps[i])"
      ],
      "metadata": {
        "id": "mxFjk9xh6C4m",
        "colab": {
          "base_uri": "https://localhost:8080/"
        },
        "outputId": "abe9a60a-d3bb-4af5-c8f7-3e2f2abcf75b"
      },
      "execution_count": 11,
      "outputs": [
        {
          "output_type": "stream",
          "name": "stderr",
          "text": [
            "  0%|          | 0/26 [00:00<?, ?it/s]WARNING:healpy:setting the output map dtype to [dtype('float64')]\n",
            "  4%|▍         | 1/26 [00:00<00:13,  1.89it/s]WARNING:healpy:setting the output map dtype to [dtype('float64')]\n",
            "  8%|▊         | 2/26 [00:01<00:18,  1.29it/s]WARNING:healpy:setting the output map dtype to [dtype('float64')]\n",
            " 12%|█▏        | 3/26 [00:02<00:18,  1.23it/s]WARNING:healpy:setting the output map dtype to [dtype('float64')]\n",
            " 15%|█▌        | 4/26 [00:03<00:21,  1.03it/s]WARNING:healpy:setting the output map dtype to [dtype('float64')]\n",
            " 19%|█▉        | 5/26 [00:04<00:23,  1.13s/it]WARNING:healpy:setting the output map dtype to [dtype('float64')]\n",
            " 23%|██▎       | 6/26 [00:06<00:25,  1.29s/it]WARNING:healpy:setting the output map dtype to [dtype('float64')]\n",
            " 27%|██▋       | 7/26 [00:08<00:26,  1.38s/it]WARNING:healpy:setting the output map dtype to [dtype('float64')]\n",
            " 31%|███       | 8/26 [00:11<00:35,  1.98s/it]WARNING:healpy:setting the output map dtype to [dtype('float64')]\n",
            " 35%|███▍      | 9/26 [00:12<00:30,  1.82s/it]WARNING:healpy:setting the output map dtype to [dtype('float64')]\n",
            " 38%|███▊      | 10/26 [00:14<00:27,  1.73s/it]WARNING:healpy:setting the output map dtype to [dtype('float64')]\n",
            " 42%|████▏     | 11/26 [00:15<00:25,  1.69s/it]WARNING:healpy:setting the output map dtype to [dtype('float64')]\n",
            " 46%|████▌     | 12/26 [00:17<00:22,  1.60s/it]WARNING:healpy:setting the output map dtype to [dtype('float64')]\n",
            " 50%|█████     | 13/26 [00:18<00:20,  1.57s/it]WARNING:healpy:setting the output map dtype to [dtype('float64')]\n",
            " 54%|█████▍    | 14/26 [00:21<00:23,  1.93s/it]WARNING:healpy:setting the output map dtype to [dtype('float64')]\n",
            " 58%|█████▊    | 15/26 [00:22<00:19,  1.74s/it]WARNING:healpy:setting the output map dtype to [dtype('float64')]\n",
            " 62%|██████▏   | 16/26 [00:26<00:22,  2.23s/it]WARNING:healpy:setting the output map dtype to [dtype('float64')]\n",
            " 65%|██████▌   | 17/26 [00:28<00:18,  2.09s/it]WARNING:healpy:setting the output map dtype to [dtype('float64')]\n",
            " 69%|██████▉   | 18/26 [00:29<00:14,  1.75s/it]WARNING:healpy:setting the output map dtype to [dtype('float64')]\n",
            " 73%|███████▎  | 19/26 [00:30<00:11,  1.71s/it]WARNING:healpy:setting the output map dtype to [dtype('float64')]\n",
            " 77%|███████▋  | 20/26 [00:32<00:10,  1.67s/it]WARNING:healpy:setting the output map dtype to [dtype('float64')]\n",
            " 81%|████████  | 21/26 [00:33<00:08,  1.61s/it]WARNING:healpy:setting the output map dtype to [dtype('float64')]\n",
            " 85%|████████▍ | 22/26 [00:34<00:05,  1.38s/it]WARNING:healpy:setting the output map dtype to [dtype('float64')]\n",
            " 88%|████████▊ | 23/26 [00:36<00:04,  1.41s/it]WARNING:healpy:setting the output map dtype to [dtype('float64')]\n",
            " 92%|█████████▏| 24/26 [00:37<00:02,  1.43s/it]WARNING:healpy:setting the output map dtype to [dtype('float64')]\n",
            " 96%|█████████▌| 25/26 [00:38<00:01,  1.45s/it]WARNING:healpy:setting the output map dtype to [dtype('float64')]\n",
            "100%|██████████| 26/26 [00:40<00:00,  1.54s/it]\n"
          ]
        }
      ]
    },
    {
      "cell_type": "markdown",
      "source": [
        "###Generate Naive Galactic Mask\n",
        "\n",
        "The code creates a naive mask to focus our analysis on a region with Galactic latitudes above |±30°| (absolute value of 30 degrees). By excluding pixels outside this latitude range, the analysis omits the central disc of our Galactic plane, which is densely populated with intergalactic celestial objects. This targeted approach allows us to examine only specific regions of interest while minimizing biases and reducing excessive noise from within our Galaxy."
      ],
      "metadata": {
        "id": "qE-fAkcXiVoN"
      }
    },
    {
      "cell_type": "code",
      "source": [
        "# pixel index of every pixel in your map\n",
        "pixindx = np.arange(12*nside**2)\n",
        "\n",
        "# get array of (l, b) Galactic longitude and latitude values for every pixel\n",
        "l_pix, b_pix = hp.pix2ang(nside, pixindx, lonlat=True)\n",
        "\n",
        "# set everything below an absolute value of the Galactic latitude 30 degrees to 0 in a mask\n",
        "mask_pixels = pixindx[np.abs(b_pix) < 30.]\n",
        "good_pixels = pixindx[np.abs(b_pix) > 30.]"
      ],
      "metadata": {
        "id": "7lxzxkF6Hsjx"
      },
      "execution_count": 12,
      "outputs": []
    },
    {
      "cell_type": "markdown",
      "source": [
        "###Evaluate the Fluctuations of the Reddening Field\n",
        "### $δ E_{B-V}(\\phi) = E_{B-V} - <E_{B-V}>$\n",
        "\n",
        "To evaluate the fluctuations of the reddening field (dust intensity map), we perform the subtraction of the sky average that was calculated earlier. The purpose of this step is to eliminate the intergalactic contributions, which may obscure the extragalactic signals present in our dust intensity maps. By removing the average contribution from the sky, we can focus on studying the specific variations or fluctuations in the dust intensity that originate from regions of interest within our galaxy or beyond."
      ],
      "metadata": {
        "id": "Fo9XV0TBibuv"
      }
    },
    {
      "cell_type": "code",
      "source": [
        "corr_red = []\n",
        "\n",
        "for i in tqdm(range(len(dust_i_maps))):\n",
        "\tval = dust_i_maps[i].value - smooth_dust_maps[i]\n",
        "\tcorr_red.append(val[good_pixels])"
      ],
      "metadata": {
        "id": "BrwHgQz5icX_",
        "colab": {
          "base_uri": "https://localhost:8080/"
        },
        "outputId": "8d2a0f27-e16d-4a07-be3c-c13709646c7f"
      },
      "execution_count": 13,
      "outputs": [
        {
          "output_type": "stream",
          "name": "stderr",
          "text": [
            "100%|██████████| 5/5 [00:01<00:00,  3.57it/s]\n"
          ]
        }
      ]
    },
    {
      "cell_type": "markdown",
      "source": [
        "###Calculate the Fractional Overdensity Field\n",
        "### $δ_r (φ, z) = \\frac{N}{<N> - 1}$\n",
        "\n",
        "The purpose of this code is to generate the fractional overdensity field for the galaxy maps corresponding to each redshift bin. This correlation represents a comparison between the expected number of galaxies and the actual number of galaxies observed at each location within the redshift bin. This information helps us evaluate the spatial distribution of galaxies and understand their clustering behavior."
      ],
      "metadata": {
        "id": "JxS6tS0Yppkb"
      }
    },
    {
      "cell_type": "code",
      "source": [
        "corr_bins = []\n",
        "ones_arr = np.ones(len(good_pixels))\n",
        "\n",
        "for i in tqdm(range(n_zbins)):\n",
        "\texp_galaxy_count = np.subtract(smooth_z_maps[i][good_pixels],ones_arr)\n",
        "\tact_galaxy_count = z_maps[i][good_pixels]\n",
        "\tcorr_bins.append(np.divide(act_galaxy_count,exp_galaxy_count))"
      ],
      "metadata": {
        "id": "yPOt5Ss6H__a",
        "colab": {
          "base_uri": "https://localhost:8080/"
        },
        "outputId": "b1c03b78-b6e3-456a-db04-8b4c66eac240"
      },
      "execution_count": 14,
      "outputs": [
        {
          "output_type": "stream",
          "name": "stderr",
          "text": [
            "100%|██████████| 26/26 [00:09<00:00,  2.61it/s]\n"
          ]
        }
      ]
    },
    {
      "cell_type": "markdown",
      "source": [
        "###Cross-correlate Dust Maps with Reference Galaxies\n",
        "\n",
        "In the final step of the computation, we investigate the excess reddening observed in the dust intensity maps around regions known to contain galaxies. By cross-correlating the signals from our dust intensity maps with our reference galaxies, we quantify the extent of extragalactic \"contamination\" present in our models. Identifying systematic spikes in emissions around known galaxies and galaxy clusters allows us to discern that these emissions originate from sources outside our galaxy, serving as indicators of extragalactic contaminants."
      ],
      "metadata": {
        "id": "Ckq2yUGWuOaG"
      }
    },
    {
      "cell_type": "code",
      "source": [
        "corr_data = []\n",
        "\n",
        "for i in tqdm(range(len(dust_models))):\n",
        "\tcorr_data.append([])\n",
        "\n",
        "for i in tqdm(range(len(dust_i_maps))):\n",
        "\tfor j in range(len(corr_bins)):\n",
        "\t\tcorr_data[i].append(int(np.correlate(corr_bins[j],corr_red[i])))"
      ],
      "metadata": {
        "id": "dtm6OxDPICFR",
        "colab": {
          "base_uri": "https://localhost:8080/"
        },
        "outputId": "b812c46e-c87f-432b-8930-5715a67dcf61"
      },
      "execution_count": 15,
      "outputs": [
        {
          "output_type": "stream",
          "name": "stderr",
          "text": [
            "100%|██████████| 5/5 [00:00<00:00, 54471.48it/s]\n",
            "100%|██████████| 5/5 [00:00<00:00,  6.26it/s]\n"
          ]
        }
      ]
    },
    {
      "cell_type": "markdown",
      "source": [
        "###Write the Results to a File\n",
        "\n",
        "This optional step allows you to write the results of the computation to a file of comma separated values."
      ],
      "metadata": {
        "id": "hVOfGOs6yFp5"
      }
    },
    {
      "cell_type": "code",
      "source": [
        "df = pd.DataFrame()\n",
        "df['z_bins'] = z_bins\n",
        "\n",
        "for i in tqdm(range(len(dust_models))):\n",
        "\tdf[dust_models[i]] = corr_data[i]\n",
        "\n",
        "df.to_csv('extragalactic_contamination.csv')"
      ],
      "metadata": {
        "id": "7L2i0tdfIFlP",
        "colab": {
          "base_uri": "https://localhost:8080/"
        },
        "outputId": "9b522f2d-975d-42ad-89fd-5841a1ef196a"
      },
      "execution_count": 16,
      "outputs": [
        {
          "output_type": "stream",
          "name": "stderr",
          "text": [
            "100%|██████████| 5/5 [00:00<00:00, 1940.55it/s]\n"
          ]
        }
      ]
    },
    {
      "cell_type": "code",
      "source": [
        "plt.plot(z_bins[:10],corr_data[0][:10], marker='o', label='d1')\n",
        "plt.plot(z_bins[:10],corr_data[2][:10],marker='o',color='red',alpha=0.5,label='d10')\n",
        "plt.plot(z_bins[:10],corr_data[3][:10],marker='o',color='purple',alpha=0.25,label='d11')\n",
        "plt.plot(z_bins[:10],corr_data[4][:10],marker='o',color='purple',alpha=0.5,label='d12')\n",
        "plt.xlabel('Redshift Bin By Z-Value')\n",
        "plt.ylabel('Extragalactic Contamination in uK_RJ')\n",
        "plt.legend()\n",
        "plt.title('Extragalactic Contamination', fontdict={'fontname': 'serif', 'fontsize' : 20})\n",
        "plt.show()"
      ],
      "metadata": {
        "id": "rgBJ1vl-IdfN",
        "colab": {
          "base_uri": "https://localhost:8080/",
          "height": 479
        },
        "outputId": "0dee7262-a804-448d-810c-c6e887f77087"
      },
      "execution_count": 17,
      "outputs": [
        {
          "output_type": "display_data",
          "data": {
            "text/plain": [
              "<Figure size 640x480 with 1 Axes>"
            ],
            "image/png": "[encoded data removed]"
          },
          "metadata": {}
        }
      ]
    }
  ]
}