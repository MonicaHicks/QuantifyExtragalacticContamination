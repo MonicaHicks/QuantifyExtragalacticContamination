{
  "nbformat": 4,
  "nbformat_minor": 0,
  "metadata": {
    "colab": {
      "provenance": []
    },
    "kernelspec": {
      "name": "python3",
      "display_name": "Python 3"
    },
    "language_info": {
      "name": "python"
    }
  },
  "cells": [
    {
      "cell_type": "markdown",
      "source": [
        "#Pre-Process GLADE+ Galaxy Catalog\n",
        "\n",
        "The [GLADE+ Catalog](https://glade.elte.hu/) contains information on ~22.5 million galaxies and ~750,000 quasars. To use this notebook, you will first need to download the catalog as a text file. Here the text file is saved as `GLADE+.txt`.\n",
        "\n",
        "This code reduces the 40-column spreadsheet to just two columns:\n",
        ">`Pix`: The pixel location of the celestial object represented by a healpy map with an nside value of 2048. This location is derived from the `RA` (Right Ascension) and `Dec` (Declination) variables in the original dataset.\n",
        "\n",
        ">`Z_bin`: The \"bucket\" to which the celestial body is assigned based on the redshift bins created using the [Tomographer interactive tool](http://tomographer.org/guest/jobs#). These bins help categorize galaxies based on their redshift values."
      ],
      "metadata": {
        "id": "IuFvcB_iet8b"
      }
    },
    {
      "cell_type": "markdown",
      "source": [
        "###Imports\n",
        ">Healpy: for converting `RA` and `Dec` from angle coordinates to pixel coordinates.\n",
        "\n",
        ">Numpy: for converting between degrees and radians in the pixel coordinate calculation.\n",
        "\n",
        ">Pandas: for extracting the `z_bin` intervals.\n",
        "\n",
        ">Tqdm: for tracking progress of the file reading."
      ],
      "metadata": {
        "id": "BJGm_CQPnIFF"
      }
    },
    {
      "cell_type": "code",
      "execution_count": null,
      "metadata": {
        "id": "FBuqoLAWese4"
      },
      "outputs": [],
      "source": [
        "import healpy as hp\n",
        "import numpy as np\n",
        "import pandas as pd\n",
        "from tqdm import tqdm"
      ]
    },
    {
      "cell_type": "markdown",
      "source": [
        "###Get Redshift Bin Cutoffs"
      ],
      "metadata": {
        "id": "118t5ENXn1cK"
      }
    },
    {
      "cell_type": "code",
      "source": [
        "z_bins = pd.read_csv('Tomographer_GLADE+.csv')\n",
        "z_bins = z_bins['z']"
      ],
      "metadata": {
        "id": "zjmvwRf3mvHP"
      },
      "execution_count": null,
      "outputs": []
    },
    {
      "cell_type": "markdown",
      "source": [
        "###Determine the Correct Redshift Bin for Objects"
      ],
      "metadata": {
        "id": "YyrwmiBfn7i9"
      }
    },
    {
      "cell_type": "code",
      "source": [
        "def get_z_bin(z_val):\n",
        "    for i in range(len(z_bins)):\n",
        "        if z_val < z_bins[i]:\n",
        "            return i"
      ],
      "metadata": {
        "id": "KctW_75Ymy05"
      },
      "execution_count": null,
      "outputs": []
    },
    {
      "cell_type": "markdown",
      "source": [
        "###Set `nside` Parameter for Pixel Coordinate Calculation\n",
        "\n",
        "`nside` is the resolution parameter determining the number of pixels in the dust map. Higher Nside values result in finer resolution but require more computational resources. Since we use `nside=2048` to generate the dust intensity models, it is important we use the same value here to place the galaxies at the correct relative positions."
      ],
      "metadata": {
        "id": "1t0_1OlpoM_P"
      }
    },
    {
      "cell_type": "code",
      "source": [
        "nside = 2048"
      ],
      "metadata": {
        "id": "qcBbFJlEm2Ru"
      },
      "execution_count": null,
      "outputs": []
    },
    {
      "cell_type": "markdown",
      "source": [
        "###Contruct `.csv` File\n",
        "The following code extracts the `RA` (column 8) and the `Dec` (column 9) variables from the original text file and uses these values to calculate the pixel location of the object. It also extracts the redshift (column 27) and uses this value to determine the redshift bin."
      ],
      "metadata": {
        "id": "3JSB1Bo0oakg"
      }
    },
    {
      "cell_type": "code",
      "source": [
        "with open('GLADE+.txt') as f:\n",
        "    txt = f.readlines()\n",
        "\n",
        "with open('GLADE+_2048.csv', 'w') as f:\n",
        "    f.write('Pix,Z_Bin\\n')\n",
        "    for line in tqdm(txt):\n",
        "        line = line.strip()\n",
        "        e = line.split()\n",
        "        if e[27] != 'null':\n",
        "            # get RA and Dec values\n",
        "            ra = e[8]\n",
        "            dec = e[9]\n",
        "            # calculate pixel location\n",
        "            theta = np.deg2rad(-(float(dec)) + 90.)\n",
        "            phi = np.deg2rad(360. - float(ra))\n",
        "            pix = hp.ang2pix(nside, theta, phi)\n",
        "            # get z_bin using extracted z-value\n",
        "            z_bin = get_z_bin(float(e[27]))\n",
        "            # write data to file\n",
        "            f.write(str(pix))\n",
        "            f.write(',')\n",
        "            f.write(str(z_bin))\n",
        "            f.write('\\n')"
      ],
      "metadata": {
        "id": "OxZxfgiPm5PA"
      },
      "execution_count": null,
      "outputs": []
    }
  ]
}