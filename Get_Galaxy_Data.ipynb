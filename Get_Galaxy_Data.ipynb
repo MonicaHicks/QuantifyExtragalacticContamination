{
  "nbformat": 4,
  "nbformat_minor": 0,
  "metadata": {
    "colab": {
      "provenance": []
    },
    "kernelspec": {
      "name": "python3",
      "display_name": "Python 3"
    },
    "language_info": {
      "name": "python"
    }
  },
  "cells": [
    {
      "cell_type": "markdown",
      "source": [
        "#Pre-Process GLADE+ Galaxy Catalog\n",
        "\n",
        "The [GLADE+ Catalog](https://glade.elte.hu/) contains information on ~22.5 million galaxies and ~750,000 quasars. To use this notebook, you will first need to download the catalog as a text file. Here the text file is saved as `GLADE+.txt`.\n",
        "\n",
        "This code reduces the 40-column spreadsheet to just two columns:\n",
        ">`Pix`: The pixel location of the celestial object represented by a healpy map with an nside value of 2048. This location is derived from the `RA` (Right Ascension) and `Dec` (Declination) variables in the original dataset.\n",
        "\n",
        ">`Z_bin`: The \"bucket\" to which the celestial body is assigned based on the redshift bins created using the [Tomographer interactive tool](http://tomographer.org/guest/jobs#). These bins help categorize galaxies based on their redshift values."
      ],
      "metadata": {
        "id": "IuFvcB_iet8b"
      }
    },
    {
      "cell_type": "markdown",
      "source": [
        "###Imports\n",
        ">Healpy: for converting `RA` and `Dec` from angle coordinates to pixel coordinates.\n",
        "\n",
        ">Numpy: for converting between degrees and radians in the pixel coordinate calculation.\n",
        "\n",
        ">Pandas: for extracting the `z_bin` intervals.\n",
        "\n",
        ">Tqdm: for tracking progress of the file reading."
      ],
      "metadata": {
        "id": "BJGm_CQPnIFF"
      }
    },
    {
      "cell_type": "code",
      "execution_count": null,
      "metadata": {
        "id": "FBuqoLAWese4"
      },
      "outputs": [],
      "source": [
        "import healpy as hp\n",
        "import numpy as np\n",
        "import pandas as pd\n",
        "from astropy.coordinates import SkyCoord\n",
        "from tqdm import tqdm"
      ]
    },
    {
      "cell_type": "markdown",
      "source": [
        "###Get Redshift Bin Cutoffs"
      ],
      "metadata": {
        "id": "118t5ENXn1cK"
      }
    },
    {
      "cell_type": "code",
      "source": [
        "z_bins = pd.read_csv('z_bin_cutoffs.csv')\n",
        "z_bins = z_bins['z']"
      ],
      "metadata": {
        "id": "zjmvwRf3mvHP"
      },
      "execution_count": null,
      "outputs": []
    },
    {
      "cell_type": "markdown",
      "source": [
        "###Determine the Correct Redshift Bin for Objects"
      ],
      "metadata": {
        "id": "YyrwmiBfn7i9"
      }
    },
    {
      "cell_type": "code",
      "source": [
        "def get_z_bin(z_val):\n",
        "    for i in range(len(z_bins)):\n",
        "        if z_val < z_bins[i]:\n",
        "            return i"
      ],
      "metadata": {
        "id": "KctW_75Ymy05"
      },
      "execution_count": null,
      "outputs": []
    },
    {
      "cell_type": "markdown",
      "source": [
        "###Set `nside` Parameter for Pixel Coordinate Calculation\n",
        "\n",
        "`nside` is the resolution parameter determining the number of pixels in the dust map. Higher Nside values result in finer resolution but require more computational resources. Since we use `nside=2048` to generate the dust intensity models, it is important we use the same value here to place the galaxies at the correct relative positions."
      ],
      "metadata": {
        "id": "1t0_1OlpoM_P"
      }
    },
    {
      "cell_type": "code",
      "source": [
        "nside = 2048"
      ],
      "metadata": {
        "id": "qcBbFJlEm2Ru"
      },
      "execution_count": null,
      "outputs": []
    },
    {
      "cell_type": "markdown",
      "source": [
        "###Contruct `.csv` File\n",
        "The following code extracts the Right Ascension: `RA` (column 8) and the Declination: `Dec` (column 9) variables from the original text file so it can later use these values to calculate the pixel location of the object. It also extracts the redshift (column 27) which is used to determine the redshift bin.\n",
        "\n",
        "This code takes a *long* time to run. The progress bar only tracks the progress of the for-loop; the pixel location calculations take significantly longer."
      ],
      "metadata": {
        "id": "3JSB1Bo0oakg"
      }
    },
    {
      "cell_type": "code",
      "source": [
        "ra = []\n",
        "dec = []\n",
        "z_bin = []\n",
        "\n",
        "with open('GLADE+.txt') as f:\n",
        "    txt = f.readlines()\n",
        "\n",
        "for line in tqdm(txt):\n",
        "    line = line.strip()\n",
        "    e = line.split()\n",
        "    if e[27] != 'null' and e[8] != 'null' and e[9] != 'null':\n",
        "        ra.append(float(e[8]))\n",
        "        dec.append(float(e[9]))\n",
        "        z_bin.append(get_z_bin(float(e[27])))\n",
        "\n",
        "coords = SkyCoord(ra=ra,dec=dec,unit='deg',frame='icrs')\n",
        "pixels = hp.ang2pix(nside=2048,theta=np.pi/2.0 - np.radians(coords.galactic.b.value),phi=np.radians(coords.galactic.l.value),lonlat=False)\n",
        "\n",
        "data_dict = {\n",
        "    'Pix': pixels,\n",
        "    'Z_Bin': z_bin,\n",
        "}\n",
        "\n",
        "df = pd.DataFrame(data_dict)\n",
        "df.to_csv('GLADE+_2048.csv', index=False)"
      ],
      "metadata": {
        "id": "OxZxfgiPm5PA"
      },
      "execution_count": null,
      "outputs": []
    }
  ]
}